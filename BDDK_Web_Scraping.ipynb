{
 "cells": [
  {
   "cell_type": "code",
   "execution_count": 1,
   "metadata": {},
   "outputs": [
    {
     "ename": "SystemExit",
     "evalue": "",
     "output_type": "error",
     "traceback": [
      "An exception has occurred, use %tb to see the full traceback.\n",
      "\u001b[1;31mSystemExit\u001b[0m\n"
     ]
    },
    {
     "name": "stderr",
     "output_type": "stream",
     "text": [
      "C:\\Users\\Onur Parapan\\AppData\\Roaming\\Python\\Python39\\site-packages\\IPython\\core\\interactiveshell.py:3386: UserWarning: To exit: use 'exit', 'quit', or Ctrl-D.\n",
      "  warn(\"To exit: use 'exit', 'quit', or Ctrl-D.\", stacklevel=1)\n"
     ]
    }
   ],
   "source": [
    "from selenium import webdriver\n",
    "from selenium.webdriver.common.keys import Keys\n",
    "import pandas as pd\n",
    "import sys\n",
    "import time\n",
    "import pathlib\n",
    "import datetime\n",
    "import locale\n",
    "from os import path\n",
    "locale.setlocale(locale.LC_ALL, 'Turkish')\n",
    "\n",
    "url = \"https://www.bddk.org.tr/BultenHaftalik/\"\n",
    "driver = webdriver.Chrome('chromedriver')\n",
    "time.sleep(3)\n",
    "driver.get(url)\n",
    "time.sleep(3)\n",
    "\n",
    "tar = '-'.join(map(str,[driver.find_element(\"xpath\",'//*[@id=\"Yil\"]/option[1]').text] + driver.find_element(\"xpath\",'//*[@id=\"Donem\"]/option[1]').text.split(' ')[0].split('/')))\n",
    "tarih = datetime.datetime.strptime(tar,'%Y-%B-%d')\n",
    "\n",
    "def GetWeeklyBDDK():    \n",
    "    table = []\n",
    "    tarafDict = {10001:500, 10002:501, 10008:502, 10009:503, 10010:504, 10003:505, 10004:506, 10005:507, 10006:508,10007:511}\n",
    "    tabloList = [280,281,282,283,284,285]\n",
    "    \n",
    "    tlypList = [\"T\",\"Y\",\"P\"]\n",
    "    for t in tarafDict.keys():\n",
    "        driver.find_element(\"xpath\",'//*[@id=\"tarafListesiItem-'+str(t)+'\"]').click()\n",
    "        time.sleep(3)\n",
    "        taraf = driver.find_element(\"xpath\",'//*[@id=\"tarafListesiItem-'+str(t)+'\"]').text\n",
    "        kurumKod = tarafDict[t]\n",
    "        metrik_no = 9001\n",
    "        for k in tabloList:\n",
    "            driver.find_element(\"xpath\",'//*[@id=\"tabloListesiItem-'+str(k)+'\"]').click()\n",
    "            time.sleep(3)\n",
    "            kalem = driver.find_element(\"xpath\",'//*[@id=\"tabloListesiItem-'+str(k)+'\"]').text\n",
    "            for i in range(1,len(driver.find_elements(\"xpath\",'//*[@id=\"Tablo\"]/tbody/tr')) + 1):\n",
    "                if (driver.find_element(\"xpath\",'//*[@id=\"Tablo\"]/tbody/tr['+str(i)+']/td[2]').text != ''):\n",
    "                    count = 0\n",
    "                    metrik_no += 1\n",
    "                    for j in range(3,len(driver.find_elements(\"xpath\",'//*[@id=\"Tablo\"]/tbody/tr[1]/td')) + 1):\n",
    "                        table.append([tarih,\n",
    "                                      taraf,\n",
    "                                      kurumKod,\n",
    "                                      kalem,\n",
    "                                      tlypList[count],\n",
    "                                      metrik_no,\n",
    "                                      driver.find_element(\"xpath\",'//*[@id=\"Tablo\"]/tbody/tr['+str(i)+']/td[2]').text,\n",
    "                                      driver.find_element(\"xpath\",'//*[@id=\"Tablo\"]/tbody/tr['+str(i)+']/td['+str(j)+']').text])\n",
    "                        count += 1\n",
    "    driver.close()\n",
    "    \n",
    "    df = pd.DataFrame(table,columns = ['END_DT','TARAF','BNK_KRM_KOD','KALEM','TL_YP_KOD','METRIK_NO','METRIK','METRIK_DEGER'])\n",
    "    \n",
    "    df.to_excel(\"Haftalık_Sektor.xlsx\")\n",
    "    f = open(\"Haftalık_Sektor.txt\", \"w\")\n",
    "    f.write(tar)\n",
    "    f.close()\n",
    "\n",
    "if not(path.exists('Haftalık_Sektor.txt')):\n",
    "    GetWeeklyBDDK()\n",
    "    sys.exit()\n",
    "else:   \n",
    "    txtRead = open(\"Haftalık_Sektor.txt\",\"r\")\n",
    "    txtTar = txtRead.read()\n",
    "    txtRead.close()\n",
    "    \n",
    "    if tar == txtTar:\n",
    "        driver.close()\n",
    "        sys.exit()\n",
    "    else:\n",
    "        GetWeeklyBDDK()\n",
    "        sys.exit()"
   ]
  },
  {
   "cell_type": "code",
   "execution_count": null,
   "metadata": {},
   "outputs": [],
   "source": []
  }
 ],
 "metadata": {
  "kernelspec": {
   "display_name": "Python 3",
   "language": "python",
   "name": "python3"
  },
  "language_info": {
   "codemirror_mode": {
    "name": "ipython",
    "version": 3
   },
   "file_extension": ".py",
   "mimetype": "text/x-python",
   "name": "python",
   "nbconvert_exporter": "python",
   "pygments_lexer": "ipython3",
   "version": "3.9.0"
  },
  "orig_nbformat": 4
 },
 "nbformat": 4,
 "nbformat_minor": 2
}
